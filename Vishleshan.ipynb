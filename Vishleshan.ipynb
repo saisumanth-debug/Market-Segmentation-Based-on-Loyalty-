{
 "cells": [
  {
   "cell_type": "code",
   "execution_count": 65,
   "metadata": {},
   "outputs": [],
   "source": [
    "import pandas as pd\n",
    "import numpy as np\n",
    "import matplotlib.pyplot as plt\n",
    "%matplotlib inline\n",
    "import seaborn as sns\n",
    "import datetime as dt\n",
    "from sklearn.cluster import KMeans\n",
    "from sklearn import metrics\n",
    "import warnings\n",
    "warnings.filterwarnings(\"ignore\")"
   ]
  },
  {
   "cell_type": "code",
   "execution_count": 66,
   "metadata": {},
   "outputs": [],
   "source": [
    "df= pd.read_csv('Visleshana Dataset.csv',encoding= 'unicode_escape')"
   ]
  },
  {
   "cell_type": "code",
   "execution_count": 67,
   "metadata": {
    "scrolled": true
   },
   "outputs": [
    {
     "data": {
      "text/html": [
       "<div>\n",
       "<style scoped>\n",
       "    .dataframe tbody tr th:only-of-type {\n",
       "        vertical-align: middle;\n",
       "    }\n",
       "\n",
       "    .dataframe tbody tr th {\n",
       "        vertical-align: top;\n",
       "    }\n",
       "\n",
       "    .dataframe thead th {\n",
       "        text-align: right;\n",
       "    }\n",
       "</style>\n",
       "<table border=\"1\" class=\"dataframe\">\n",
       "  <thead>\n",
       "    <tr style=\"text-align: right;\">\n",
       "      <th></th>\n",
       "      <th>Row ID</th>\n",
       "      <th>Order ID</th>\n",
       "      <th>Order Date</th>\n",
       "      <th>Ship Date</th>\n",
       "      <th>Customer ID</th>\n",
       "      <th>Country</th>\n",
       "      <th>City</th>\n",
       "      <th>State</th>\n",
       "      <th>Postal Code</th>\n",
       "      <th>Region</th>\n",
       "      <th>Product ID</th>\n",
       "      <th>Category</th>\n",
       "      <th>Sub-Category</th>\n",
       "      <th>Product Name</th>\n",
       "      <th>Sales</th>\n",
       "      <th>Quantity</th>\n",
       "    </tr>\n",
       "  </thead>\n",
       "  <tbody>\n",
       "    <tr>\n",
       "      <th>0</th>\n",
       "      <td>1</td>\n",
       "      <td>CA-2018-152156</td>\n",
       "      <td>08-11-2018</td>\n",
       "      <td>11-11-2018</td>\n",
       "      <td>CG-12520</td>\n",
       "      <td>United States</td>\n",
       "      <td>Henderson</td>\n",
       "      <td>Kentucky</td>\n",
       "      <td>42420.0</td>\n",
       "      <td>South</td>\n",
       "      <td>FUR-BO-10001798</td>\n",
       "      <td>Furniture</td>\n",
       "      <td>Bookcases</td>\n",
       "      <td>Bush Somerset Collection Bookcase</td>\n",
       "      <td>261.96</td>\n",
       "      <td>2</td>\n",
       "    </tr>\n",
       "    <tr>\n",
       "      <th>1</th>\n",
       "      <td>2</td>\n",
       "      <td>CA-2018-152156</td>\n",
       "      <td>08-11-2018</td>\n",
       "      <td>11-11-2018</td>\n",
       "      <td>CG-12520</td>\n",
       "      <td>United States</td>\n",
       "      <td>Henderson</td>\n",
       "      <td>Kentucky</td>\n",
       "      <td>42420.0</td>\n",
       "      <td>South</td>\n",
       "      <td>FUR-CH-10000454</td>\n",
       "      <td>Furniture</td>\n",
       "      <td>Chairs</td>\n",
       "      <td>Hon Deluxe Fabric Upholstered Stacking Chairs,...</td>\n",
       "      <td>731.94</td>\n",
       "      <td>3</td>\n",
       "    </tr>\n",
       "    <tr>\n",
       "      <th>2</th>\n",
       "      <td>3</td>\n",
       "      <td>CA-2018-138688</td>\n",
       "      <td>12-06-2018</td>\n",
       "      <td>16-06-2018</td>\n",
       "      <td>DV-13045</td>\n",
       "      <td>United States</td>\n",
       "      <td>Los Angeles</td>\n",
       "      <td>California</td>\n",
       "      <td>90036.0</td>\n",
       "      <td>West</td>\n",
       "      <td>OFF-LA-10000240</td>\n",
       "      <td>Office Supplies</td>\n",
       "      <td>Labels</td>\n",
       "      <td>Self-Adhesive Address Labels for Typewriters b...</td>\n",
       "      <td>14.62</td>\n",
       "      <td>1</td>\n",
       "    </tr>\n",
       "  </tbody>\n",
       "</table>\n",
       "</div>"
      ],
      "text/plain": [
       "   Row ID        Order ID  Order Date   Ship Date Customer ID        Country  \\\n",
       "0       1  CA-2018-152156  08-11-2018  11-11-2018    CG-12520  United States   \n",
       "1       2  CA-2018-152156  08-11-2018  11-11-2018    CG-12520  United States   \n",
       "2       3  CA-2018-138688  12-06-2018  16-06-2018    DV-13045  United States   \n",
       "\n",
       "          City       State  Postal Code Region       Product ID  \\\n",
       "0    Henderson    Kentucky      42420.0  South  FUR-BO-10001798   \n",
       "1    Henderson    Kentucky      42420.0  South  FUR-CH-10000454   \n",
       "2  Los Angeles  California      90036.0   West  OFF-LA-10000240   \n",
       "\n",
       "          Category Sub-Category  \\\n",
       "0        Furniture    Bookcases   \n",
       "1        Furniture       Chairs   \n",
       "2  Office Supplies       Labels   \n",
       "\n",
       "                                        Product Name   Sales  Quantity  \n",
       "0                  Bush Somerset Collection Bookcase  261.96         2  \n",
       "1  Hon Deluxe Fabric Upholstered Stacking Chairs,...  731.94         3  \n",
       "2  Self-Adhesive Address Labels for Typewriters b...   14.62         1  "
      ]
     },
     "execution_count": 67,
     "metadata": {},
     "output_type": "execute_result"
    }
   ],
   "source": [
    "df.head(3)"
   ]
  },
  {
   "cell_type": "code",
   "execution_count": 35,
   "metadata": {},
   "outputs": [],
   "source": [
    "data=df.copy()"
   ]
  },
  {
   "cell_type": "code",
   "execution_count": 36,
   "metadata": {},
   "outputs": [
    {
     "data": {
      "text/plain": [
       "Row ID           0\n",
       "Order ID         0\n",
       "Order Date       0\n",
       "Ship Date        0\n",
       "Customer ID      0\n",
       "Country          0\n",
       "City             0\n",
       "State            0\n",
       "Postal Code     11\n",
       "Region           0\n",
       "Product ID       0\n",
       "Category         0\n",
       "Sub-Category     0\n",
       "Product Name     0\n",
       "Sales            1\n",
       "Quantity         0\n",
       "dtype: int64"
      ]
     },
     "execution_count": 36,
     "metadata": {},
     "output_type": "execute_result"
    }
   ],
   "source": [
    "data.isnull().sum()"
   ]
  },
  {
   "cell_type": "markdown",
   "metadata": {},
   "source": [
    "### We dont need the below cloumnsas they is only one country and we have index."
   ]
  },
  {
   "cell_type": "code",
   "execution_count": 37,
   "metadata": {},
   "outputs": [],
   "source": [
    "data.drop(columns=['Row ID','Country','Postal Code'],inplace=True)"
   ]
  },
  {
   "cell_type": "markdown",
   "metadata": {},
   "source": [
    "### we are handling the missing values with meadian as there are many outliers and we can't remove outliers because  we don't want to loose any data"
   ]
  },
  {
   "cell_type": "code",
   "execution_count": 38,
   "metadata": {},
   "outputs": [],
   "source": [
    "data['Sales']=data.Sales.fillna(data.Sales.median())"
   ]
  },
  {
   "cell_type": "code",
   "execution_count": 39,
   "metadata": {},
   "outputs": [
    {
     "data": {
      "text/plain": [
       "Office Supplies                6217\n",
       "Furniture                      2180\n",
       "Technology                     1916\n",
       "Technology+OL9935:P9938           1\n",
       "TEC-PH-1000+L9935:P99384912       1\n",
       "Name: Category, dtype: int64"
      ]
     },
     "execution_count": 39,
     "metadata": {},
     "output_type": "execute_result"
    }
   ],
   "source": [
    "data.Category.value_counts()"
   ]
  },
  {
   "cell_type": "code",
   "execution_count": 44,
   "metadata": {},
   "outputs": [
    {
     "data": {
      "text/html": [
       "<div>\n",
       "<style scoped>\n",
       "    .dataframe tbody tr th:only-of-type {\n",
       "        vertical-align: middle;\n",
       "    }\n",
       "\n",
       "    .dataframe tbody tr th {\n",
       "        vertical-align: top;\n",
       "    }\n",
       "\n",
       "    .dataframe thead th {\n",
       "        text-align: right;\n",
       "    }\n",
       "</style>\n",
       "<table border=\"1\" class=\"dataframe\">\n",
       "  <thead>\n",
       "    <tr style=\"text-align: right;\">\n",
       "      <th></th>\n",
       "      <th>Order ID</th>\n",
       "      <th>Order Date</th>\n",
       "      <th>Ship Date</th>\n",
       "      <th>Customer ID</th>\n",
       "      <th>City</th>\n",
       "      <th>State</th>\n",
       "      <th>Region</th>\n",
       "      <th>Product ID</th>\n",
       "      <th>Category</th>\n",
       "      <th>Sub-Category</th>\n",
       "      <th>Product Name</th>\n",
       "      <th>Sales</th>\n",
       "      <th>Quantity</th>\n",
       "    </tr>\n",
       "  </thead>\n",
       "  <tbody>\n",
       "    <tr>\n",
       "      <th>9961</th>\n",
       "      <td>CA-2017-168088</td>\n",
       "      <td>19-03-2017</td>\n",
       "      <td>22-03-2017</td>\n",
       "      <td>CM-12655</td>\n",
       "      <td>Houston</td>\n",
       "      <td>Texas</td>\n",
       "      <td>Central</td>\n",
       "      <td>OFF-PA-10000675</td>\n",
       "      <td>TEC-PH-1000+L9935:P99384912</td>\n",
       "      <td>Paper</td>\n",
       "      <td>Xerox 1919</td>\n",
       "      <td>65.584</td>\n",
       "      <td>1</td>\n",
       "    </tr>\n",
       "  </tbody>\n",
       "</table>\n",
       "</div>"
      ],
      "text/plain": [
       "            Order ID  Order Date   Ship Date Customer ID     City  State  \\\n",
       "9961  CA-2017-168088  19-03-2017  22-03-2017    CM-12655  Houston  Texas   \n",
       "\n",
       "       Region       Product ID                     Category Sub-Category  \\\n",
       "9961  Central  OFF-PA-10000675  TEC-PH-1000+L9935:P99384912        Paper   \n",
       "\n",
       "     Product Name   Sales  Quantity  \n",
       "9961   Xerox 1919  65.584         1  "
      ]
     },
     "execution_count": 44,
     "metadata": {},
     "output_type": "execute_result"
    }
   ],
   "source": [
    "data[data['Category']=='TEC-PH-1000+L9935:P99384912']"
   ]
  },
  {
   "cell_type": "markdown",
   "metadata": {},
   "source": [
    "### I have replaced the 'Technology+OL9935:P9938' with 'Technology' and 'TEC-PH-1000+L9935:P99384912' with 'office supplies', by looking at their sub-categories I have replaced it."
   ]
  },
  {
   "cell_type": "code",
   "execution_count": 45,
   "metadata": {},
   "outputs": [],
   "source": [
    "data.Category.replace({'Technology+OL9935:P9938':'Technology','TEC-PH-1000+L9935:P99384912':'Office Supplies'},inplace=True)"
   ]
  },
  {
   "cell_type": "code",
   "execution_count": 46,
   "metadata": {},
   "outputs": [
    {
     "data": {
      "image/png": "[encoded data removed]",
      "text/plain": [
       "<Figure size 432x288 with 1 Axes>"
      ]
     },
     "metadata": {
      "needs_background": "light"
     },
     "output_type": "display_data"
    }
   ],
   "source": [
    "sns.barplot(x=data.Region, y=data.Sales, ci=None)\n",
    "plt.title('Sales per region')\n",
    "plt.show()"
   ]
  },
  {
   "cell_type": "markdown",
   "metadata": {},
   "source": [
    "### If you see the above graph, sales per region. The east region having the highest sales and central having less sales compared."
   ]
  },
  {
   "cell_type": "code",
   "execution_count": 47,
   "metadata": {},
   "outputs": [
    {
     "data": {
      "image/png": "[encoded data removed]",
      "text/plain": [
       "<Figure size 432x288 with 1 Axes>"
      ]
     },
     "metadata": {
      "needs_background": "light"
     },
     "output_type": "display_data"
    }
   ],
   "source": [
    "sns.barplot(x=data.Category, y=data.Sales, ci=None)\n",
    "plt.title('Sales per category')\n",
    "plt.xlabel('CATEGORY')\n",
    "plt.show()"
   ]
  },
  {
   "cell_type": "markdown",
   "metadata": {},
   "source": [
    "### From the above graph we came to know that technology category having the highest sales and office supplies category having the lowest sales"
   ]
  },
  {
   "cell_type": "code",
   "execution_count": 48,
   "metadata": {},
   "outputs": [
    {
     "name": "stdout",
     "output_type": "stream",
     "text": [
      "<class 'pandas.core.frame.DataFrame'>\n",
      "RangeIndex: 10315 entries, 0 to 10314\n",
      "Data columns (total 13 columns):\n",
      " #   Column        Non-Null Count  Dtype  \n",
      "---  ------        --------------  -----  \n",
      " 0   Order ID      10315 non-null  object \n",
      " 1   Order Date    10315 non-null  object \n",
      " 2   Ship Date     10315 non-null  object \n",
      " 3   Customer ID   10315 non-null  object \n",
      " 4   City          10315 non-null  object \n",
      " 5   State         10315 non-null  object \n",
      " 6   Region        10315 non-null  object \n",
      " 7   Product ID    10315 non-null  object \n",
      " 8   Category      10315 non-null  object \n",
      " 9   Sub-Category  10315 non-null  object \n",
      " 10  Product Name  10315 non-null  object \n",
      " 11  Sales         10315 non-null  float64\n",
      " 12  Quantity      10315 non-null  int64  \n",
      "dtypes: float64(1), int64(1), object(11)\n",
      "memory usage: 1.0+ MB\n"
     ]
    }
   ],
   "source": [
    "data.info()"
   ]
  },
  {
   "cell_type": "markdown",
   "metadata": {},
   "source": [
    "### Only the sales and integer are numerical varaibles rest are objects. In the dataset there are date_time varaibles where we need to convert them to date_time varaibles."
   ]
  },
  {
   "cell_type": "code",
   "execution_count": 49,
   "metadata": {},
   "outputs": [],
   "source": [
    "data['Order Date']=pd.to_datetime(data['Order Date'])\n",
    "data['Ship Date']=pd.to_datetime(data['Ship Date'])"
   ]
  },
  {
   "cell_type": "markdown",
   "metadata": {},
   "source": [
    "### The order ID consist of '-' where we need to remove the hyphen and join them using split method."
   ]
  },
  {
   "cell_type": "code",
   "execution_count": 50,
   "metadata": {},
   "outputs": [],
   "source": [
    "data['Order ID']=data['Order ID'].str.split('-', expand=True)[0]+data['Order ID'].str.split('-', expand=True)[1]+data['Order ID'].str.split('-', expand=True)[2]"
   ]
  },
  {
   "cell_type": "code",
   "execution_count": 51,
   "metadata": {},
   "outputs": [
    {
     "data": {
      "text/plain": [
       "0        CA2018152156\n",
       "1        CA2018152156\n",
       "2        CA2018138688\n",
       "3        US2017108966\n",
       "4        US2017108966\n",
       "             ...     \n",
       "10310    CA2016100901\n",
       "10311    CA2016101399\n",
       "10312    CA2016101399\n",
       "10313    CA2016101399\n",
       "10314    CA2016101399\n",
       "Name: Order ID, Length: 10315, dtype: object"
      ]
     },
     "execution_count": 51,
     "metadata": {},
     "output_type": "execute_result"
    }
   ],
   "source": [
    "data['Order ID']"
   ]
  },
  {
   "cell_type": "markdown",
   "metadata": {},
   "source": [
    "### To get the last date of the purchase"
   ]
  },
  {
   "cell_type": "code",
   "execution_count": 52,
   "metadata": {},
   "outputs": [],
   "source": [
    "snapshot_date = data['Order Date'].max() + dt.timedelta(days=1)"
   ]
  },
  {
   "cell_type": "markdown",
   "metadata": {},
   "source": [
    "### The Order ID of your puchase tells about the 'Frecency', Sales is about 'Monetary' and Order Date is about 'Recency'"
   ]
  },
  {
   "cell_type": "code",
   "execution_count": 53,
   "metadata": {},
   "outputs": [],
   "source": [
    "data_RFM =data.groupby(['Customer ID']).agg({\n",
    "    'Order Date': lambda x: (snapshot_date - x.max()).days,\n",
    "    'Order ID':'count',\n",
    "     'Sales':'sum'})"
   ]
  },
  {
   "cell_type": "code",
   "execution_count": 54,
   "metadata": {},
   "outputs": [],
   "source": [
    "data_RFM.rename(columns={'Order Date':'recency','Order ID':'frequency','Sales':'monetary'}, inplace=True)"
   ]
  },
  {
   "cell_type": "code",
   "execution_count": 55,
   "metadata": {},
   "outputs": [
    {
     "data": {
      "text/html": [
       "<div>\n",
       "<style scoped>\n",
       "    .dataframe tbody tr th:only-of-type {\n",
       "        vertical-align: middle;\n",
       "    }\n",
       "\n",
       "    .dataframe tbody tr th {\n",
       "        vertical-align: top;\n",
       "    }\n",
       "\n",
       "    .dataframe thead th {\n",
       "        text-align: right;\n",
       "    }\n",
       "</style>\n",
       "<table border=\"1\" class=\"dataframe\">\n",
       "  <thead>\n",
       "    <tr style=\"text-align: right;\">\n",
       "      <th></th>\n",
       "      <th>recency</th>\n",
       "      <th>frequency</th>\n",
       "      <th>monetary</th>\n",
       "    </tr>\n",
       "    <tr>\n",
       "      <th>Customer ID</th>\n",
       "      <th></th>\n",
       "      <th></th>\n",
       "      <th></th>\n",
       "    </tr>\n",
       "  </thead>\n",
       "  <tbody>\n",
       "    <tr>\n",
       "      <th>AA-10315</th>\n",
       "      <td>185</td>\n",
       "      <td>11</td>\n",
       "      <td>5563.560</td>\n",
       "    </tr>\n",
       "    <tr>\n",
       "      <th>AA-10375</th>\n",
       "      <td>49</td>\n",
       "      <td>15</td>\n",
       "      <td>1056.390</td>\n",
       "    </tr>\n",
       "    <tr>\n",
       "      <th>AA-10480</th>\n",
       "      <td>260</td>\n",
       "      <td>12</td>\n",
       "      <td>1790.512</td>\n",
       "    </tr>\n",
       "    <tr>\n",
       "      <th>AA-10645</th>\n",
       "      <td>38</td>\n",
       "      <td>33</td>\n",
       "      <td>10617.937</td>\n",
       "    </tr>\n",
       "    <tr>\n",
       "      <th>AB-10015</th>\n",
       "      <td>446</td>\n",
       "      <td>6</td>\n",
       "      <td>886.156</td>\n",
       "    </tr>\n",
       "    <tr>\n",
       "      <th>...</th>\n",
       "      <td>...</td>\n",
       "      <td>...</td>\n",
       "      <td>...</td>\n",
       "    </tr>\n",
       "    <tr>\n",
       "      <th>XP-21865</th>\n",
       "      <td>44</td>\n",
       "      <td>28</td>\n",
       "      <td>2374.658</td>\n",
       "    </tr>\n",
       "    <tr>\n",
       "      <th>YC-21895</th>\n",
       "      <td>5</td>\n",
       "      <td>8</td>\n",
       "      <td>5454.350</td>\n",
       "    </tr>\n",
       "    <tr>\n",
       "      <th>YS-21880</th>\n",
       "      <td>10</td>\n",
       "      <td>12</td>\n",
       "      <td>6720.444</td>\n",
       "    </tr>\n",
       "    <tr>\n",
       "      <th>ZC-21910</th>\n",
       "      <td>55</td>\n",
       "      <td>38</td>\n",
       "      <td>8704.543</td>\n",
       "    </tr>\n",
       "    <tr>\n",
       "      <th>ZD-21925</th>\n",
       "      <td>55</td>\n",
       "      <td>9</td>\n",
       "      <td>1493.944</td>\n",
       "    </tr>\n",
       "  </tbody>\n",
       "</table>\n",
       "<p>793 rows × 3 columns</p>\n",
       "</div>"
      ],
      "text/plain": [
       "             recency  frequency   monetary\n",
       "Customer ID                               \n",
       "AA-10315         185         11   5563.560\n",
       "AA-10375          49         15   1056.390\n",
       "AA-10480         260         12   1790.512\n",
       "AA-10645          38         33  10617.937\n",
       "AB-10015         446          6    886.156\n",
       "...              ...        ...        ...\n",
       "XP-21865          44         28   2374.658\n",
       "YC-21895           5          8   5454.350\n",
       "YS-21880          10         12   6720.444\n",
       "ZC-21910          55         38   8704.543\n",
       "ZD-21925          55          9   1493.944\n",
       "\n",
       "[793 rows x 3 columns]"
      ]
     },
     "execution_count": 55,
     "metadata": {},
     "output_type": "execute_result"
    }
   ],
   "source": [
    "data_RFM"
   ]
  },
  {
   "cell_type": "markdown",
   "metadata": {},
   "source": [
    "### using the quantiles 0.25,0.5,0.75 "
   ]
  },
  {
   "cell_type": "code",
   "execution_count": 56,
   "metadata": {},
   "outputs": [
    {
     "data": {
      "text/html": [
       "<div>\n",
       "<style scoped>\n",
       "    .dataframe tbody tr th:only-of-type {\n",
       "        vertical-align: middle;\n",
       "    }\n",
       "\n",
       "    .dataframe tbody tr th {\n",
       "        vertical-align: top;\n",
       "    }\n",
       "\n",
       "    .dataframe thead th {\n",
       "        text-align: right;\n",
       "    }\n",
       "</style>\n",
       "<table border=\"1\" class=\"dataframe\">\n",
       "  <thead>\n",
       "    <tr style=\"text-align: right;\">\n",
       "      <th></th>\n",
       "      <th>frequency</th>\n",
       "      <th>monetary</th>\n",
       "      <th>recency</th>\n",
       "    </tr>\n",
       "  </thead>\n",
       "  <tbody>\n",
       "    <tr>\n",
       "      <th>0.25</th>\n",
       "      <td>8.0</td>\n",
       "      <td>1203.334</td>\n",
       "      <td>37.0</td>\n",
       "    </tr>\n",
       "    <tr>\n",
       "      <th>0.50</th>\n",
       "      <td>12.0</td>\n",
       "      <td>2302.368</td>\n",
       "      <td>93.0</td>\n",
       "    </tr>\n",
       "    <tr>\n",
       "      <th>0.75</th>\n",
       "      <td>17.0</td>\n",
       "      <td>3908.262</td>\n",
       "      <td>217.0</td>\n",
       "    </tr>\n",
       "  </tbody>\n",
       "</table>\n",
       "</div>"
      ],
      "text/plain": [
       "      frequency  monetary  recency\n",
       "0.25        8.0  1203.334     37.0\n",
       "0.50       12.0  2302.368     93.0\n",
       "0.75       17.0  3908.262    217.0"
      ]
     },
     "execution_count": 56,
     "metadata": {},
     "output_type": "execute_result"
    }
   ],
   "source": [
    "quantiles = data_RFM[['frequency','monetary','recency' ]].quantile(q=[0.25,0.5,0.75])\n",
    "quantiles"
   ]
  },
  {
   "cell_type": "code",
   "execution_count": 57,
   "metadata": {},
   "outputs": [
    {
     "data": {
      "text/plain": [
       "{'frequency': {0.25: 8.0, 0.5: 12.0, 0.75: 17.0},\n",
       " 'monetary': {0.25: 1203.334, 0.5: 2302.368, 0.75: 3908.2619999999997},\n",
       " 'recency': {0.25: 37.0, 0.5: 93.0, 0.75: 217.0}}"
      ]
     },
     "execution_count": 57,
     "metadata": {},
     "output_type": "execute_result"
    }
   ],
   "source": [
    "quantiles = quantiles.to_dict()\n",
    "quantiles"
   ]
  },
  {
   "cell_type": "markdown",
   "metadata": {},
   "source": [
    "### We create two classes for the RFM segmentation since, being high recency is bad, while high frequency and monetary value is good.\n",
    "### Arguments (x = value, p = recency, monetary_value, frequency, k = quartiles dict)"
   ]
  },
  {
   "cell_type": "code",
   "execution_count": 58,
   "metadata": {},
   "outputs": [],
   "source": [
    "\n",
    "def RClass(x,p,d):\n",
    "    if x <= d[p][0.25]:\n",
    "        return 1\n",
    "    elif x <= d[p][0.50]:\n",
    "        return 2\n",
    "    elif x <= d[p][0.75]: \n",
    "        return 3\n",
    "    else:\n",
    "        return 4\n",
    "    \n",
    "# Arguments (x = value, p = recency, monetary_value, frequency, k = quartiles dict)\n",
    "def FMClass(x,p,d):\n",
    "    if x <= d[p][0.25]:\n",
    "        return 4\n",
    "    elif x <= d[p][0.50]:\n",
    "        return 3\n",
    "    elif x <= d[p][0.75]: \n",
    "        return 2\n",
    "    else:\n",
    "        return 1"
   ]
  },
  {
   "cell_type": "code",
   "execution_count": 59,
   "metadata": {},
   "outputs": [],
   "source": [
    "data_RFM['R_Quartile'] = data_RFM['recency'].apply(RClass, args=('recency',quantiles,))\n",
    "data_RFM['F_Quartile'] = data_RFM['frequency'].apply(FMClass, args=('frequency',quantiles,))\n",
    "data_RFM['M_Quartile'] = data_RFM['monetary'].apply(FMClass, args=('monetary',quantiles,))"
   ]
  },
  {
   "cell_type": "code",
   "execution_count": 60,
   "metadata": {},
   "outputs": [
    {
     "data": {
      "text/html": [
       "<div>\n",
       "<style scoped>\n",
       "    .dataframe tbody tr th:only-of-type {\n",
       "        vertical-align: middle;\n",
       "    }\n",
       "\n",
       "    .dataframe tbody tr th {\n",
       "        vertical-align: top;\n",
       "    }\n",
       "\n",
       "    .dataframe thead th {\n",
       "        text-align: right;\n",
       "    }\n",
       "</style>\n",
       "<table border=\"1\" class=\"dataframe\">\n",
       "  <thead>\n",
       "    <tr style=\"text-align: right;\">\n",
       "      <th></th>\n",
       "      <th>recency</th>\n",
       "      <th>frequency</th>\n",
       "      <th>monetary</th>\n",
       "      <th>R_Quartile</th>\n",
       "      <th>F_Quartile</th>\n",
       "      <th>M_Quartile</th>\n",
       "    </tr>\n",
       "    <tr>\n",
       "      <th>Customer ID</th>\n",
       "      <th></th>\n",
       "      <th></th>\n",
       "      <th></th>\n",
       "      <th></th>\n",
       "      <th></th>\n",
       "      <th></th>\n",
       "    </tr>\n",
       "  </thead>\n",
       "  <tbody>\n",
       "    <tr>\n",
       "      <th>AA-10315</th>\n",
       "      <td>185</td>\n",
       "      <td>11</td>\n",
       "      <td>5563.560</td>\n",
       "      <td>3</td>\n",
       "      <td>3</td>\n",
       "      <td>1</td>\n",
       "    </tr>\n",
       "    <tr>\n",
       "      <th>AA-10375</th>\n",
       "      <td>49</td>\n",
       "      <td>15</td>\n",
       "      <td>1056.390</td>\n",
       "      <td>2</td>\n",
       "      <td>2</td>\n",
       "      <td>4</td>\n",
       "    </tr>\n",
       "    <tr>\n",
       "      <th>AA-10480</th>\n",
       "      <td>260</td>\n",
       "      <td>12</td>\n",
       "      <td>1790.512</td>\n",
       "      <td>4</td>\n",
       "      <td>3</td>\n",
       "      <td>3</td>\n",
       "    </tr>\n",
       "    <tr>\n",
       "      <th>AA-10645</th>\n",
       "      <td>38</td>\n",
       "      <td>33</td>\n",
       "      <td>10617.937</td>\n",
       "      <td>2</td>\n",
       "      <td>1</td>\n",
       "      <td>1</td>\n",
       "    </tr>\n",
       "    <tr>\n",
       "      <th>AB-10015</th>\n",
       "      <td>446</td>\n",
       "      <td>6</td>\n",
       "      <td>886.156</td>\n",
       "      <td>4</td>\n",
       "      <td>4</td>\n",
       "      <td>4</td>\n",
       "    </tr>\n",
       "  </tbody>\n",
       "</table>\n",
       "</div>"
      ],
      "text/plain": [
       "             recency  frequency   monetary  R_Quartile  F_Quartile  M_Quartile\n",
       "Customer ID                                                                   \n",
       "AA-10315         185         11   5563.560           3           3           1\n",
       "AA-10375          49         15   1056.390           2           2           4\n",
       "AA-10480         260         12   1790.512           4           3           3\n",
       "AA-10645          38         33  10617.937           2           1           1\n",
       "AB-10015         446          6    886.156           4           4           4"
      ]
     },
     "execution_count": 60,
     "metadata": {},
     "output_type": "execute_result"
    }
   ],
   "source": [
    "data_RFM.head()"
   ]
  },
  {
   "cell_type": "code",
   "execution_count": 68,
   "metadata": {},
   "outputs": [],
   "source": [
    "data_RFM=data_RFM.assign(R_seg=np.nan, FM_seg =np.nan)\n",
    "data_RFM.R_seg[data_RFM['R_Quartile']==4] = \"3.Churn\"\n",
    "data_RFM.R_seg[data_RFM['R_Quartile']==2] = \"2.At Risk\"\n",
    "data_RFM.R_seg[data_RFM['R_Quartile']==3] = \"2.At Risk\"\n",
    "data_RFM.R_seg[data_RFM['R_Quartile']==1] = \"1.Active\"\n",
    "\n",
    "data_RFM.FM_seg[(data_RFM['F_Quartile']==3) & (data_RFM['M_Quartile']==1)] = \"2.Gold\"\n",
    "data_RFM.FM_seg[(data_RFM['F_Quartile']==4) & (data_RFM['M_Quartile']==1)] = \"2.Gold\"\n",
    "data_RFM.FM_seg[(data_RFM['F_Quartile']==2) & (data_RFM['M_Quartile']==2)] = \"2.Gold\"\n",
    "data_RFM.FM_seg[(data_RFM['F_Quartile']==4) & (data_RFM['M_Quartile']==2)] = \"1.Silver\"\n",
    "data_RFM.FM_seg[(data_RFM['F_Quartile']==1) & (data_RFM['M_Quartile']==3)] = \"2.Gold\"\n",
    "data_RFM.FM_seg[(data_RFM['F_Quartile']==2) & (data_RFM['M_Quartile']==3)] = \"2.Gold\"\n",
    "data_RFM.FM_seg[(data_RFM['F_Quartile']==3) & (data_RFM['M_Quartile']==3)] = \"1.Silver\"\n",
    "data_RFM.FM_seg[(data_RFM['F_Quartile']==4) & (data_RFM['M_Quartile']==3)] = \"1.Silver\"\n",
    "data_RFM.FM_seg[(data_RFM['F_Quartile']==1) & (data_RFM['M_Quartile']==4)] = \"2.Gold\"\n",
    "data_RFM.FM_seg[(data_RFM['F_Quartile']==1) & (data_RFM['M_Quartile']==2)] = \"2.Gold\"\n",
    "data_RFM.FM_seg[(data_RFM['F_Quartile']==2) & (data_RFM['M_Quartile']==4)] = \"1.Silver\"\n",
    "data_RFM.FM_seg[(data_RFM['F_Quartile']==3) & (data_RFM['M_Quartile']==4)] = \"1.Silver\"\n",
    "data_RFM.FM_seg[(data_RFM['F_Quartile']==4) & (data_RFM['M_Quartile']==4)] = \"0.Standard\"\n",
    "\n",
    "data_RFM.FM_seg.fillna(\"4.Premium\", inplace=True)"
   ]
  },
  {
   "cell_type": "code",
   "execution_count": 69,
   "metadata": {},
   "outputs": [
    {
     "data": {
      "text/plain": [
       "2.At Risk    394\n",
       "1.Active     201\n",
       "3.Churn      198\n",
       "Name: R_seg, dtype: int64"
      ]
     },
     "execution_count": 69,
     "metadata": {},
     "output_type": "execute_result"
    }
   ],
   "source": [
    "data_RFM['R_seg'].value_counts()"
   ]
  },
  {
   "cell_type": "code",
   "execution_count": 70,
   "metadata": {},
   "outputs": [
    {
     "data": {
      "text/html": [
       "<div>\n",
       "<style scoped>\n",
       "    .dataframe tbody tr th:only-of-type {\n",
       "        vertical-align: middle;\n",
       "    }\n",
       "\n",
       "    .dataframe tbody tr th {\n",
       "        vertical-align: top;\n",
       "    }\n",
       "\n",
       "    .dataframe thead th {\n",
       "        text-align: right;\n",
       "    }\n",
       "</style>\n",
       "<table border=\"1\" class=\"dataframe\">\n",
       "  <thead>\n",
       "    <tr style=\"text-align: right;\">\n",
       "      <th></th>\n",
       "      <th>recency</th>\n",
       "      <th>frequency</th>\n",
       "      <th>monetary</th>\n",
       "      <th>R_Quartile</th>\n",
       "      <th>F_Quartile</th>\n",
       "      <th>M_Quartile</th>\n",
       "      <th>R_seg</th>\n",
       "      <th>FM_seg</th>\n",
       "    </tr>\n",
       "    <tr>\n",
       "      <th>Customer ID</th>\n",
       "      <th></th>\n",
       "      <th></th>\n",
       "      <th></th>\n",
       "      <th></th>\n",
       "      <th></th>\n",
       "      <th></th>\n",
       "      <th></th>\n",
       "      <th></th>\n",
       "    </tr>\n",
       "  </thead>\n",
       "  <tbody>\n",
       "    <tr>\n",
       "      <th>PF-19120</th>\n",
       "      <td>36</td>\n",
       "      <td>23</td>\n",
       "      <td>11298.480</td>\n",
       "      <td>1</td>\n",
       "      <td>1</td>\n",
       "      <td>1</td>\n",
       "      <td>1.Active</td>\n",
       "      <td>4.Premium</td>\n",
       "    </tr>\n",
       "    <tr>\n",
       "      <th>DJ-13630</th>\n",
       "      <td>13</td>\n",
       "      <td>8</td>\n",
       "      <td>3356.398</td>\n",
       "      <td>1</td>\n",
       "      <td>4</td>\n",
       "      <td>2</td>\n",
       "      <td>1.Active</td>\n",
       "      <td>1.Silver</td>\n",
       "    </tr>\n",
       "    <tr>\n",
       "      <th>NS-18505</th>\n",
       "      <td>7</td>\n",
       "      <td>15</td>\n",
       "      <td>2575.863</td>\n",
       "      <td>1</td>\n",
       "      <td>2</td>\n",
       "      <td>2</td>\n",
       "      <td>1.Active</td>\n",
       "      <td>2.Gold</td>\n",
       "    </tr>\n",
       "    <tr>\n",
       "      <th>DK-12895</th>\n",
       "      <td>23</td>\n",
       "      <td>15</td>\n",
       "      <td>4282.176</td>\n",
       "      <td>1</td>\n",
       "      <td>2</td>\n",
       "      <td>1</td>\n",
       "      <td>1.Active</td>\n",
       "      <td>4.Premium</td>\n",
       "    </tr>\n",
       "    <tr>\n",
       "      <th>DK-12985</th>\n",
       "      <td>8</td>\n",
       "      <td>8</td>\n",
       "      <td>1687.040</td>\n",
       "      <td>1</td>\n",
       "      <td>4</td>\n",
       "      <td>3</td>\n",
       "      <td>1.Active</td>\n",
       "      <td>1.Silver</td>\n",
       "    </tr>\n",
       "    <tr>\n",
       "      <th>...</th>\n",
       "      <td>...</td>\n",
       "      <td>...</td>\n",
       "      <td>...</td>\n",
       "      <td>...</td>\n",
       "      <td>...</td>\n",
       "      <td>...</td>\n",
       "      <td>...</td>\n",
       "      <td>...</td>\n",
       "    </tr>\n",
       "    <tr>\n",
       "      <th>LR-16915</th>\n",
       "      <td>263</td>\n",
       "      <td>16</td>\n",
       "      <td>5142.892</td>\n",
       "      <td>4</td>\n",
       "      <td>2</td>\n",
       "      <td>1</td>\n",
       "      <td>3.Churn</td>\n",
       "      <td>4.Premium</td>\n",
       "    </tr>\n",
       "    <tr>\n",
       "      <th>HD-14785</th>\n",
       "      <td>769</td>\n",
       "      <td>7</td>\n",
       "      <td>251.360</td>\n",
       "      <td>4</td>\n",
       "      <td>4</td>\n",
       "      <td>4</td>\n",
       "      <td>3.Churn</td>\n",
       "      <td>0.Standard</td>\n",
       "    </tr>\n",
       "    <tr>\n",
       "      <th>NF-18475</th>\n",
       "      <td>526</td>\n",
       "      <td>8</td>\n",
       "      <td>908.650</td>\n",
       "      <td>4</td>\n",
       "      <td>4</td>\n",
       "      <td>4</td>\n",
       "      <td>3.Churn</td>\n",
       "      <td>0.Standard</td>\n",
       "    </tr>\n",
       "    <tr>\n",
       "      <th>CD-12790</th>\n",
       "      <td>400</td>\n",
       "      <td>15</td>\n",
       "      <td>1860.732</td>\n",
       "      <td>4</td>\n",
       "      <td>2</td>\n",
       "      <td>3</td>\n",
       "      <td>3.Churn</td>\n",
       "      <td>2.Gold</td>\n",
       "    </tr>\n",
       "    <tr>\n",
       "      <th>LM-17065</th>\n",
       "      <td>571</td>\n",
       "      <td>7</td>\n",
       "      <td>1346.774</td>\n",
       "      <td>4</td>\n",
       "      <td>4</td>\n",
       "      <td>3</td>\n",
       "      <td>3.Churn</td>\n",
       "      <td>1.Silver</td>\n",
       "    </tr>\n",
       "  </tbody>\n",
       "</table>\n",
       "<p>793 rows × 8 columns</p>\n",
       "</div>"
      ],
      "text/plain": [
       "             recency  frequency   monetary  R_Quartile  F_Quartile  \\\n",
       "Customer ID                                                          \n",
       "PF-19120          36         23  11298.480           1           1   \n",
       "DJ-13630          13          8   3356.398           1           4   \n",
       "NS-18505           7         15   2575.863           1           2   \n",
       "DK-12895          23         15   4282.176           1           2   \n",
       "DK-12985           8          8   1687.040           1           4   \n",
       "...              ...        ...        ...         ...         ...   \n",
       "LR-16915         263         16   5142.892           4           2   \n",
       "HD-14785         769          7    251.360           4           4   \n",
       "NF-18475         526          8    908.650           4           4   \n",
       "CD-12790         400         15   1860.732           4           2   \n",
       "LM-17065         571          7   1346.774           4           4   \n",
       "\n",
       "             M_Quartile     R_seg      FM_seg  \n",
       "Customer ID                                    \n",
       "PF-19120              1  1.Active   4.Premium  \n",
       "DJ-13630              2  1.Active    1.Silver  \n",
       "NS-18505              2  1.Active      2.Gold  \n",
       "DK-12895              1  1.Active   4.Premium  \n",
       "DK-12985              3  1.Active    1.Silver  \n",
       "...                 ...       ...         ...  \n",
       "LR-16915              1   3.Churn   4.Premium  \n",
       "HD-14785              4   3.Churn  0.Standard  \n",
       "NF-18475              4   3.Churn  0.Standard  \n",
       "CD-12790              3   3.Churn      2.Gold  \n",
       "LM-17065              3   3.Churn    1.Silver  \n",
       "\n",
       "[793 rows x 8 columns]"
      ]
     },
     "execution_count": 70,
     "metadata": {},
     "output_type": "execute_result"
    }
   ],
   "source": [
    "data_RFM.sort_values(by=['R_seg'])"
   ]
  },
  {
   "cell_type": "code",
   "execution_count": 64,
   "metadata": {},
   "outputs": [],
   "source": [
    "col_kpi=['monetary','recency','frequency']"
   ]
  },
  {
   "cell_type": "code",
   "execution_count": 27,
   "metadata": {},
   "outputs": [],
   "source": [
    "Profiling=data_RFM.groupby(['R_seg', 'FM_seg']).apply(lambda x: x[col_kpi].mean())"
   ]
  },
  {
   "cell_type": "code",
   "execution_count": 28,
   "metadata": {},
   "outputs": [
    {
     "data": {
      "text/html": [
       "<div>\n",
       "<style scoped>\n",
       "    .dataframe tbody tr th:only-of-type {\n",
       "        vertical-align: middle;\n",
       "    }\n",
       "\n",
       "    .dataframe tbody tr th {\n",
       "        vertical-align: top;\n",
       "    }\n",
       "\n",
       "    .dataframe thead th {\n",
       "        text-align: right;\n",
       "    }\n",
       "</style>\n",
       "<table border=\"1\" class=\"dataframe\">\n",
       "  <thead>\n",
       "    <tr style=\"text-align: right;\">\n",
       "      <th></th>\n",
       "      <th></th>\n",
       "      <th>monetary</th>\n",
       "      <th>recency</th>\n",
       "      <th>frequency</th>\n",
       "    </tr>\n",
       "    <tr>\n",
       "      <th>R_seg</th>\n",
       "      <th>FM_seg</th>\n",
       "      <th></th>\n",
       "      <th></th>\n",
       "      <th></th>\n",
       "    </tr>\n",
       "  </thead>\n",
       "  <tbody>\n",
       "    <tr>\n",
       "      <th rowspan=\"4\" valign=\"top\">1.Active</th>\n",
       "      <th>0.Standard</th>\n",
       "      <td>501.899590</td>\n",
       "      <td>20.200000</td>\n",
       "      <td>5.850000</td>\n",
       "    </tr>\n",
       "    <tr>\n",
       "      <th>1.Silver</th>\n",
       "      <td>1504.030587</td>\n",
       "      <td>18.521739</td>\n",
       "      <td>9.586957</td>\n",
       "    </tr>\n",
       "    <tr>\n",
       "      <th>2.Gold</th>\n",
       "      <td>3058.940507</td>\n",
       "      <td>17.550725</td>\n",
       "      <td>16.463768</td>\n",
       "    </tr>\n",
       "    <tr>\n",
       "      <th>4.Premium</th>\n",
       "      <td>6122.624439</td>\n",
       "      <td>19.060606</td>\n",
       "      <td>19.045455</td>\n",
       "    </tr>\n",
       "    <tr>\n",
       "      <th rowspan=\"4\" valign=\"top\">2.At Risk</th>\n",
       "      <th>0.Standard</th>\n",
       "      <td>602.539811</td>\n",
       "      <td>111.092593</td>\n",
       "      <td>5.314815</td>\n",
       "    </tr>\n",
       "    <tr>\n",
       "      <th>1.Silver</th>\n",
       "      <td>1525.399266</td>\n",
       "      <td>104.480769</td>\n",
       "      <td>9.740385</td>\n",
       "    </tr>\n",
       "    <tr>\n",
       "      <th>2.Gold</th>\n",
       "      <td>3091.857162</td>\n",
       "      <td>93.258333</td>\n",
       "      <td>16.783333</td>\n",
       "    </tr>\n",
       "    <tr>\n",
       "      <th>4.Premium</th>\n",
       "      <td>5635.845767</td>\n",
       "      <td>106.008621</td>\n",
       "      <td>17.827586</td>\n",
       "    </tr>\n",
       "    <tr>\n",
       "      <th rowspan=\"4\" valign=\"top\">3.Churn</th>\n",
       "      <th>0.Standard</th>\n",
       "      <td>527.881768</td>\n",
       "      <td>477.517857</td>\n",
       "      <td>5.142857</td>\n",
       "    </tr>\n",
       "    <tr>\n",
       "      <th>1.Silver</th>\n",
       "      <td>1550.233269</td>\n",
       "      <td>419.397059</td>\n",
       "      <td>8.573529</td>\n",
       "    </tr>\n",
       "    <tr>\n",
       "      <th>2.Gold</th>\n",
       "      <td>3748.812810</td>\n",
       "      <td>357.475000</td>\n",
       "      <td>13.875000</td>\n",
       "    </tr>\n",
       "    <tr>\n",
       "      <th>4.Premium</th>\n",
       "      <td>5480.570865</td>\n",
       "      <td>378.117647</td>\n",
       "      <td>16.352941</td>\n",
       "    </tr>\n",
       "  </tbody>\n",
       "</table>\n",
       "</div>"
      ],
      "text/plain": [
       "                         monetary     recency  frequency\n",
       "R_seg     FM_seg                                        \n",
       "1.Active  0.Standard   501.899590   20.200000   5.850000\n",
       "          1.Silver    1504.030587   18.521739   9.586957\n",
       "          2.Gold      3058.940507   17.550725  16.463768\n",
       "          4.Premium   6122.624439   19.060606  19.045455\n",
       "2.At Risk 0.Standard   602.539811  111.092593   5.314815\n",
       "          1.Silver    1525.399266  104.480769   9.740385\n",
       "          2.Gold      3091.857162   93.258333  16.783333\n",
       "          4.Premium   5635.845767  106.008621  17.827586\n",
       "3.Churn   0.Standard   527.881768  477.517857   5.142857\n",
       "          1.Silver    1550.233269  419.397059   8.573529\n",
       "          2.Gold      3748.812810  357.475000  13.875000\n",
       "          4.Premium   5480.570865  378.117647  16.352941"
      ]
     },
     "execution_count": 28,
     "metadata": {},
     "output_type": "execute_result"
    }
   ],
   "source": [
    "Profiling"
   ]
  },
  {
   "cell_type": "code",
   "execution_count": null,
   "metadata": {},
   "outputs": [],
   "source": []
  },
  {
   "cell_type": "markdown",
   "metadata": {},
   "source": [
    "### Calculating K value usig silhoutte Score"
   ]
  },
  {
   "cell_type": "code",
   "execution_count": 29,
   "metadata": {},
   "outputs": [],
   "source": [
    "x1=Profiling.copy()\n",
    "k_range = range(3, 12)\n",
    "scores = []\n",
    "for k in k_range:\n",
    "    km = KMeans(n_clusters=k, random_state=1)\n",
    "    km.fit(x1)\n",
    "    scores.append(metrics.silhouette_score(x1, km.labels_))"
   ]
  },
  {
   "cell_type": "code",
   "execution_count": 30,
   "metadata": {},
   "outputs": [
    {
     "data": {
      "image/png": "[encoded data removed]",
      "text/plain": [
       "<Figure size 432x288 with 1 Axes>"
      ]
     },
     "metadata": {
      "needs_background": "light"
     },
     "output_type": "display_data"
    }
   ],
   "source": [
    "plt.plot(k_range, scores)\n",
    "plt.xlabel('Number of clusters')\n",
    "plt.ylabel('Silhouette Coefficient')\n",
    "plt.grid(True)"
   ]
  },
  {
   "cell_type": "markdown",
   "metadata": {},
   "source": [
    "### From the above plot we found that K value has the highest Silhouette coefficient, So We take K value as 4."
   ]
  },
  {
   "cell_type": "code",
   "execution_count": 31,
   "metadata": {},
   "outputs": [
    {
     "data": {
      "text/html": [
       "<div>\n",
       "<style scoped>\n",
       "    .dataframe tbody tr th:only-of-type {\n",
       "        vertical-align: middle;\n",
       "    }\n",
       "\n",
       "    .dataframe tbody tr th {\n",
       "        vertical-align: top;\n",
       "    }\n",
       "\n",
       "    .dataframe thead th {\n",
       "        text-align: right;\n",
       "    }\n",
       "</style>\n",
       "<table border=\"1\" class=\"dataframe\">\n",
       "  <thead>\n",
       "    <tr style=\"text-align: right;\">\n",
       "      <th></th>\n",
       "      <th></th>\n",
       "      <th>monetary</th>\n",
       "      <th>recency</th>\n",
       "      <th>frequency</th>\n",
       "      <th>cluster_4</th>\n",
       "    </tr>\n",
       "    <tr>\n",
       "      <th>R_seg</th>\n",
       "      <th>FM_seg</th>\n",
       "      <th></th>\n",
       "      <th></th>\n",
       "      <th></th>\n",
       "      <th></th>\n",
       "    </tr>\n",
       "  </thead>\n",
       "  <tbody>\n",
       "    <tr>\n",
       "      <th rowspan=\"4\" valign=\"top\">1.Active</th>\n",
       "      <th>0.Standard</th>\n",
       "      <td>501.899590</td>\n",
       "      <td>20.200000</td>\n",
       "      <td>5.850000</td>\n",
       "      <td>1</td>\n",
       "    </tr>\n",
       "    <tr>\n",
       "      <th>1.Silver</th>\n",
       "      <td>1504.030587</td>\n",
       "      <td>18.521739</td>\n",
       "      <td>9.586957</td>\n",
       "      <td>3</td>\n",
       "    </tr>\n",
       "    <tr>\n",
       "      <th>2.Gold</th>\n",
       "      <td>3058.940507</td>\n",
       "      <td>17.550725</td>\n",
       "      <td>16.463768</td>\n",
       "      <td>0</td>\n",
       "    </tr>\n",
       "    <tr>\n",
       "      <th>4.Premium</th>\n",
       "      <td>6122.624439</td>\n",
       "      <td>19.060606</td>\n",
       "      <td>19.045455</td>\n",
       "      <td>2</td>\n",
       "    </tr>\n",
       "    <tr>\n",
       "      <th rowspan=\"4\" valign=\"top\">2.At Risk</th>\n",
       "      <th>0.Standard</th>\n",
       "      <td>602.539811</td>\n",
       "      <td>111.092593</td>\n",
       "      <td>5.314815</td>\n",
       "      <td>1</td>\n",
       "    </tr>\n",
       "    <tr>\n",
       "      <th>1.Silver</th>\n",
       "      <td>1525.399266</td>\n",
       "      <td>104.480769</td>\n",
       "      <td>9.740385</td>\n",
       "      <td>3</td>\n",
       "    </tr>\n",
       "    <tr>\n",
       "      <th>2.Gold</th>\n",
       "      <td>3091.857162</td>\n",
       "      <td>93.258333</td>\n",
       "      <td>16.783333</td>\n",
       "      <td>0</td>\n",
       "    </tr>\n",
       "    <tr>\n",
       "      <th>4.Premium</th>\n",
       "      <td>5635.845767</td>\n",
       "      <td>106.008621</td>\n",
       "      <td>17.827586</td>\n",
       "      <td>2</td>\n",
       "    </tr>\n",
       "    <tr>\n",
       "      <th rowspan=\"4\" valign=\"top\">3.Churn</th>\n",
       "      <th>0.Standard</th>\n",
       "      <td>527.881768</td>\n",
       "      <td>477.517857</td>\n",
       "      <td>5.142857</td>\n",
       "      <td>1</td>\n",
       "    </tr>\n",
       "    <tr>\n",
       "      <th>1.Silver</th>\n",
       "      <td>1550.233269</td>\n",
       "      <td>419.397059</td>\n",
       "      <td>8.573529</td>\n",
       "      <td>3</td>\n",
       "    </tr>\n",
       "    <tr>\n",
       "      <th>2.Gold</th>\n",
       "      <td>3748.812810</td>\n",
       "      <td>357.475000</td>\n",
       "      <td>13.875000</td>\n",
       "      <td>0</td>\n",
       "    </tr>\n",
       "    <tr>\n",
       "      <th>4.Premium</th>\n",
       "      <td>5480.570865</td>\n",
       "      <td>378.117647</td>\n",
       "      <td>16.352941</td>\n",
       "      <td>2</td>\n",
       "    </tr>\n",
       "  </tbody>\n",
       "</table>\n",
       "</div>"
      ],
      "text/plain": [
       "                         monetary     recency  frequency  cluster_4\n",
       "R_seg     FM_seg                                                   \n",
       "1.Active  0.Standard   501.899590   20.200000   5.850000          1\n",
       "          1.Silver    1504.030587   18.521739   9.586957          3\n",
       "          2.Gold      3058.940507   17.550725  16.463768          0\n",
       "          4.Premium   6122.624439   19.060606  19.045455          2\n",
       "2.At Risk 0.Standard   602.539811  111.092593   5.314815          1\n",
       "          1.Silver    1525.399266  104.480769   9.740385          3\n",
       "          2.Gold      3091.857162   93.258333  16.783333          0\n",
       "          4.Premium   5635.845767  106.008621  17.827586          2\n",
       "3.Churn   0.Standard   527.881768  477.517857   5.142857          1\n",
       "          1.Silver    1550.233269  419.397059   8.573529          3\n",
       "          2.Gold      3748.812810  357.475000  13.875000          0\n",
       "          4.Premium   5480.570865  378.117647  16.352941          2"
      ]
     },
     "execution_count": 31,
     "metadata": {},
     "output_type": "execute_result"
    }
   ],
   "source": [
    "kmeans_new= KMeans(4)\n",
    "kmeans_new.fit(x1)\n",
    "cluster_final= x1.copy()\n",
    "cluster_final['cluster_4']=kmeans_new.fit_predict(x1)\n",
    "cluster_final\n",
    "\n",
    "cluster_final"
   ]
  },
  {
   "cell_type": "code",
   "execution_count": 32,
   "metadata": {},
   "outputs": [
    {
     "data": {
      "text/html": [
       "<div>\n",
       "<style scoped>\n",
       "    .dataframe tbody tr th:only-of-type {\n",
       "        vertical-align: middle;\n",
       "    }\n",
       "\n",
       "    .dataframe tbody tr th {\n",
       "        vertical-align: top;\n",
       "    }\n",
       "\n",
       "    .dataframe thead th {\n",
       "        text-align: right;\n",
       "    }\n",
       "</style>\n",
       "<table border=\"1\" class=\"dataframe\">\n",
       "  <thead>\n",
       "    <tr style=\"text-align: right;\">\n",
       "      <th></th>\n",
       "      <th>monetary</th>\n",
       "      <th>recency</th>\n",
       "      <th>frequency</th>\n",
       "    </tr>\n",
       "    <tr>\n",
       "      <th>cluster_4</th>\n",
       "      <th></th>\n",
       "      <th></th>\n",
       "      <th></th>\n",
       "    </tr>\n",
       "  </thead>\n",
       "  <tbody>\n",
       "    <tr>\n",
       "      <th>0</th>\n",
       "      <td>3299.870160</td>\n",
       "      <td>156.094686</td>\n",
       "      <td>15.707367</td>\n",
       "    </tr>\n",
       "    <tr>\n",
       "      <th>1</th>\n",
       "      <td>544.107056</td>\n",
       "      <td>202.936817</td>\n",
       "      <td>5.435891</td>\n",
       "    </tr>\n",
       "    <tr>\n",
       "      <th>2</th>\n",
       "      <td>5746.347024</td>\n",
       "      <td>167.728958</td>\n",
       "      <td>17.741994</td>\n",
       "    </tr>\n",
       "    <tr>\n",
       "      <th>3</th>\n",
       "      <td>1526.554374</td>\n",
       "      <td>180.799856</td>\n",
       "      <td>9.300290</td>\n",
       "    </tr>\n",
       "  </tbody>\n",
       "</table>\n",
       "</div>"
      ],
      "text/plain": [
       "              monetary     recency  frequency\n",
       "cluster_4                                    \n",
       "0          3299.870160  156.094686  15.707367\n",
       "1           544.107056  202.936817   5.435891\n",
       "2          5746.347024  167.728958  17.741994\n",
       "3          1526.554374  180.799856   9.300290"
      ]
     },
     "execution_count": 32,
     "metadata": {},
     "output_type": "execute_result"
    }
   ],
   "source": [
    "# Calculate average RFM values for each cluster\n",
    "cluster_avg = cluster_final.groupby(['cluster_4']).mean()\n",
    "cluster_avg"
   ]
  },
  {
   "cell_type": "code",
   "execution_count": null,
   "metadata": {},
   "outputs": [],
   "source": []
  }
 ],
 "metadata": {
  "kernelspec": {
   "display_name": "Python 3",
   "language": "python",
   "name": "python3"
  },
  "language_info": {
   "codemirror_mode": {
    "name": "ipython",
    "version": 3
   },
   "file_extension": ".py",
   "mimetype": "text/x-python",
   "name": "python",
   "nbconvert_exporter": "python",
   "pygments_lexer": "ipython3",
   "version": "3.7.7"
  }
 },
 "nbformat": 4,
 "nbformat_minor": 4
}
